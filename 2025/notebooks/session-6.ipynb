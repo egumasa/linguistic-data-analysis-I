{
 "cells": [
  {
   "cell_type": "markdown",
   "id": "f9e4017e",
   "metadata": {},
   "source": [
    "# Session 6 — Computing simple lexical diversity and sophistication index"
   ]
  },
  {
   "cell_type": "code",
   "execution_count": null,
   "id": "d59a4989",
   "metadata": {},
   "outputs": [],
   "source": []
  },
  {
   "cell_type": "code",
   "execution_count": 2,
   "id": "c1169b96",
   "metadata": {},
   "outputs": [],
   "source": [
    "low_diversity = \"The dog ran. The dog jumped. The dog played. The dog barked. The dog ran again and jumped again.\""
   ]
  },
  {
   "cell_type": "code",
   "execution_count": 3,
   "id": "688d7564",
   "metadata": {},
   "outputs": [],
   "source": [
    "\n",
    "high_diversity = \"A curious fox trotted briskly through the meadow, leaping over mossy logs, sniffing wildflowers, and vanishing into golden twilight.\""
   ]
  },
  {
   "cell_type": "code",
   "execution_count": 13,
   "id": "7bd52ff4",
   "metadata": {},
   "outputs": [],
   "source": [
    "def count_token_type(text: str):\n",
    "    # delete punctuation\n",
    "    text = text.replace(\".\", \"\")\n",
    "    text = text.replace(\",\", \"\")\n",
    "    text = text.replace(\"?\", \"\")\n",
    "\n",
    "    \n",
    "    token_list = text.strip()\n",
    "    token_list = text.split(\" \")\n",
    "\n",
    "    token = len(token_list)\n",
    "    type = len(set(token_list))\n",
    "    return (token, type)"
   ]
  },
  {
   "cell_type": "code",
   "execution_count": 15,
   "id": "1d5f9ff9",
   "metadata": {},
   "outputs": [
    {
     "data": {
      "text/plain": [
       "(19, 8)"
      ]
     },
     "execution_count": 15,
     "metadata": {},
     "output_type": "execute_result"
    }
   ],
   "source": [
    "count_token_type(low_diversity)"
   ]
  },
  {
   "cell_type": "code",
   "execution_count": 16,
   "id": "61835854",
   "metadata": {},
   "outputs": [
    {
     "data": {
      "text/plain": [
       "(19, 19)"
      ]
     },
     "execution_count": 16,
     "metadata": {},
     "output_type": "execute_result"
    }
   ],
   "source": [
    "count_token_type(high_diversity)"
   ]
  },
  {
   "cell_type": "code",
   "execution_count": 41,
   "id": "4f19fe89",
   "metadata": {},
   "outputs": [],
   "source": [
    "low_diversity2 = \"The dog ran. The dog jumped. The dog barked. The dog played. The dog ran quickly. The dog jumped so high. The dog barked very loudly. The dog played, sat, and rolled. The dog sneezed. The dog ate the food.\""
   ]
  },
  {
   "cell_type": "code",
   "execution_count": 42,
   "id": "545f904b",
   "metadata": {},
   "outputs": [
    {
     "data": {
      "text/plain": [
       "(40, 18)"
      ]
     },
     "execution_count": 42,
     "metadata": {},
     "output_type": "execute_result"
    }
   ],
   "source": [
    "count_token_type(low_diversity2)"
   ]
  },
  {
   "cell_type": "code",
   "execution_count": 61,
   "id": "31b3071f",
   "metadata": {},
   "outputs": [],
   "source": [
    "low_diversity3 = \"The parrot squawked loudly. The parrot chirped again. A toucan perched nearby. The parrot fluttered. Wings flapped softly. The parrot chirped again. Feathers shimmered under sunlight. The crow cawed. The parrot glided low. The air shimmered. The owl blinked slowly. The parrot perched again. The owl blinked slowly. The parrot shrieked. The parrot chirped nearby again. The parrot squawked again.\""
   ]
  },
  {
   "cell_type": "code",
   "execution_count": 62,
   "id": "cd5af0cc",
   "metadata": {},
   "outputs": [
    {
     "data": {
      "text/plain": [
       "(60, 27)"
      ]
     },
     "execution_count": 62,
     "metadata": {},
     "output_type": "execute_result"
    }
   ],
   "source": [
    "count_token_type(low_diversity3)\n"
   ]
  },
  {
   "cell_type": "markdown",
   "id": "4d58247f",
   "metadata": {},
   "source": [
    "## Using Lexical Diversity package\n",
    "\n",
    "There is a package called [`TAALED`](https://lcr-ads-lab.github.io/TAALED/) maintained by Dr. Kris Kyle.\n"
   ]
  },
  {
   "cell_type": "code",
   "execution_count": null,
   "id": "04492da6",
   "metadata": {},
   "outputs": [],
   "source": [
    "from taaled import ld\n",
    "from pylats import lats\n",
    "\n"
   ]
  }
 ],
 "metadata": {
  "kernelspec": {
   "display_name": "linguistic-data-analysis-I",
   "language": "python",
   "name": "python3"
  },
  "language_info": {
   "codemirror_mode": {
    "name": "ipython",
    "version": 3
   },
   "file_extension": ".py",
   "mimetype": "text/x-python",
   "name": "python",
   "nbconvert_exporter": "python",
   "pygments_lexer": "ipython3",
   "version": "3.12.2"
  }
 },
 "nbformat": 4,
 "nbformat_minor": 5
}
